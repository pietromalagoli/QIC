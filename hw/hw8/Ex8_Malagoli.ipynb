{
 "cells": [
  {
   "cell_type": "markdown",
   "metadata": {},
   "source": [
    "# Homework 8 - Renormalization Group #"
   ]
  },
  {
   "cell_type": "markdown",
   "metadata": {},
   "source": [
    "# Consegna #\n",
    "\n",
    "Consider the quantum Ising Hamiltonian in transverse field on a one-dimensional lattice with the nearest neighbour interaction:\n",
    "$$\n",
    "\\hat{H} = \\lambda {\\sum_i}^N {\\sigma_i}^z + {\\sum_i}^{N-1} {\\sigma_i}^x {\\sigma_{i+1}}^x \n",
    "$$\n",
    "\n",
    "where $\\sigma^x$ and $\\sigma^z$ and $\\lambda$ is the transverse field. \n",
    "\n",
    "(a) Compute the ground state energy as a function of the transverse field 𝜆 by means of the real-space\n",
    "RG algorithm.\n",
    "\n",
    "(b) $\\textit{Optional}$: Compute the ground state energy as a function of 𝜆 by means of the INFINITE DMRG\n",
    "algorithm. Compare the results between them and with the mean field solution.\n"
   ]
  },
  {
   "cell_type": "markdown",
   "metadata": {},
   "source": [
    "**Teoria a pag. pdf 49 del libro di Montangero**\n",
    "\n",
    "Real-space renormalization group method is an approximation method based on a very powerful physical intuition: the hypothesis that the ground state of a system is composed of low-energy states of the system’s (non-interacting) bipartitions. Based on this assumption, it is indeed possible to introduce an algorithm that allows describing the ground state properties of many-body quantum systems with large sizes $( N )$, up to the thermodynamical limit corresponding to the fixed point of the renormalization flow.\n",
    "\n",
    "The algorithm proceeds as follows:\n",
    "\n",
    "1. **Initialize**:  \n",
    "   Consider a system composed of $( N )$ sites that can be studied in an exact numerical way. Build the Hamiltonian $( H_N : \\mathbb{C}^{dN} \\to \\mathbb{C}^{dN} )$.\n",
    "\n",
    "2. **Diagonalize the Hamiltonian**:  \n",
    "   Diagonalize $( H_N )$, finding its eigenvalues and eigenvectors:\n",
    "   $$\n",
    "   H_N = \\sum_{i=1}^{d^N} E_i \\lvert E_i \\rangle \\langle E_i \\rvert,\n",
    "   $$\n",
    "   where the eigenvalues $( E_i )$ are in increasing order.  \n",
    "   Consider the projector onto the lowest $( m )$ eigenstates:\n",
    "   $$\n",
    "   P = \\sum_{i=1}^m \\lvert E_i \\rangle \\langle E_i \\rvert,\n",
    "   $$\n",
    "   which projects the Hilbert space onto the subspace spanned by the first $( m )$ low-energy eigenstates.  \n",
    "   Compute the projected Hamiltonian:\n",
    "   $$\n",
    "   \\tilde{H}_N = P^\\dagger H_N P,\n",
    "   $$\n",
    "   as well as any other needed operator representation in the projected space:\n",
    "   $$\n",
    "   \\tilde{O} = P^\\dagger O P.\n",
    "   $$\n",
    "\n",
    "3. **Construct the larger system Hamiltonian**:  \n",
    "   Construct the Hamiltonian of a system of size $( 2N )$ using the projected Hamiltonian $( \\tilde{H}_N )$ for each bipartition and the interaction among them:\n",
    "   $$\n",
    "   H_{2N} = \\tilde{H}_N \\otimes 1 + 1 \\otimes \\tilde{H}_N + \\tilde{H}_{\\text{int}}.\n",
    "   $$\n",
    "   The interaction Hamiltonian can be obtained as:\n",
    "   $$\n",
    "   \\tilde{H}_{\\text{int}} = \\tilde{A}_N \\otimes \\tilde{B}_N,\n",
    "   $$\n",
    "   where $( \\tilde{A} )$ ($( \\tilde{B} )$) are the projected operators acting on each system bipartition:\n",
    "   $$\n",
    "   \\tilde{A} = P^\\dagger A P, \\quad \\tilde{B} = P^\\dagger B P.\n",
    "   $$\n",
    "\n",
    "4. **Repeat until convergence**:  \n",
    "   Repeat steps 2–3 until the desired system size is reached or convergence to the renormalization group fixed point is achieved.  \n",
    "   At each step of the algorithm, the dimension of the described system is doubled ($( N \\to 2N )$) while the dimension of the Hamiltonian representation is kept constant at $( m )$.\n",
    "\n",
    "\n",
    "\n",
    "**metti a posto le formule in latex**"
   ]
  },
  {
   "cell_type": "code",
   "execution_count": 8,
   "metadata": {},
   "outputs": [],
   "source": [
    "import numpy as np\n",
    "import matplotlib.pyplot as plt\n",
    "import aux\n",
    "import ising as ig\n",
    "import scipy.sparse as sp"
   ]
  },
  {
   "cell_type": "code",
   "execution_count": null,
   "metadata": {},
   "outputs": [
    {
     "name": "stdout",
     "output_type": "stream",
     "text": [
      "[[4.5894271e-06-4.63555151e-05j 4.5894271e-06-4.63555151e-05j\n",
      "  4.5894271e-06-4.63555151e-05j ... 4.5894271e-06-4.63555151e-05j\n",
      "  4.5894271e-06-4.63555151e-05j 4.5894271e-06-4.63555151e-05j]\n",
      " [4.5894271e-06-4.63555151e-05j 4.5894271e-06-4.63555151e-05j\n",
      "  4.5894271e-06-4.63555151e-05j ... 4.5894271e-06-4.63555151e-05j\n",
      "  4.5894271e-06-4.63555151e-05j 4.5894271e-06-4.63555151e-05j]\n",
      " [4.5894271e-06-4.63555151e-05j 4.5894271e-06-4.63555151e-05j\n",
      "  4.5894271e-06-4.63555151e-05j ... 4.5894271e-06-4.63555151e-05j\n",
      "  4.5894271e-06-4.63555151e-05j 4.5894271e-06-4.63555151e-05j]\n",
      " ...\n",
      " [4.5894271e-06-4.63555151e-05j 4.5894271e-06-4.63555151e-05j\n",
      "  4.5894271e-06-4.63555151e-05j ... 4.5894271e-06-4.63555151e-05j\n",
      "  4.5894271e-06-4.63555151e-05j 4.5894271e-06-4.63555151e-05j]\n",
      " [4.5894271e-06-4.63555151e-05j 4.5894271e-06-4.63555151e-05j\n",
      "  4.5894271e-06-4.63555151e-05j ... 4.5894271e-06-4.63555151e-05j\n",
      "  4.5894271e-06-4.63555151e-05j 4.5894271e-06-4.63555151e-05j]\n",
      " [4.5894271e-06-4.63555151e-05j 4.5894271e-06-4.63555151e-05j\n",
      "  4.5894271e-06-4.63555151e-05j ... 4.5894271e-06-4.63555151e-05j\n",
      "  4.5894271e-06-4.63555151e-05j 4.5894271e-06-4.63555151e-05j]]\n",
      "(256, 256)\n",
      "(256, 256)\n"
     ]
    },
    {
     "ename": "ValueError",
     "evalue": "matmul: Input operand 0 does not have enough dimensions (has 0, gufunc core with signature (n?,k),(k,m?)->(n?,m?) requires 1)",
     "output_type": "error",
     "traceback": [
      "\u001b[0;31m---------------------------------------------------------------------------\u001b[0m",
      "\u001b[0;31mValueError\u001b[0m                                Traceback (most recent call last)",
      "Cell \u001b[0;32mIn[16], line 18\u001b[0m\n\u001b[1;32m     16\u001b[0m \u001b[38;5;28mprint\u001b[39m(proj\u001b[38;5;241m.\u001b[39mshape)\n\u001b[1;32m     17\u001b[0m \u001b[38;5;28mprint\u001b[39m(proj\u001b[38;5;241m.\u001b[39mconj()\u001b[38;5;241m.\u001b[39mT\u001b[38;5;241m.\u001b[39mshape)\n\u001b[0;32m---> 18\u001b[0m \u001b[38;5;28mprint\u001b[39m(\u001b[43mnp\u001b[49m\u001b[38;5;241;43m.\u001b[39;49m\u001b[43mmatmul\u001b[49m\u001b[43m(\u001b[49m\u001b[43mham\u001b[49m\u001b[43m,\u001b[49m\u001b[43mproj\u001b[49m\u001b[43m)\u001b[49m\u001b[38;5;241m.\u001b[39mshape)\n\u001b[1;32m     20\u001b[0m \u001b[38;5;66;03m# Project the Hamiltonian on the m-eigenvalues space\u001b[39;00m\n\u001b[1;32m     21\u001b[0m ham_proj \u001b[38;5;241m=\u001b[39m np\u001b[38;5;241m.\u001b[39mmatmul(proj\u001b[38;5;241m.\u001b[39mconj()\u001b[38;5;241m.\u001b[39mT,np\u001b[38;5;241m.\u001b[39mmatmul(ham,proj))\n",
      "\u001b[0;31mValueError\u001b[0m: matmul: Input operand 0 does not have enough dimensions (has 0, gufunc core with signature (n?,k),(k,m?)->(n?,m?) requires 1)"
     ]
    }
   ],
   "source": [
    "# for the Hamiltonian I use the code already developed for the previous assignment\n",
    "\n",
    "N = 8\n",
    "lam = 1\n",
    "m = 4\n",
    "ham = ig.sparse_ising(N,lam)\n",
    "eigenvalues, eigenvectors = sp.linalg.eigsh(ham, k= m, which='SA')     # they're alrady sorted in ascending order\n",
    "\n",
    "proj = sp.csr_matrix(eigenvalues)\n",
    "\n",
    "print(proj)\n",
    "print(proj.shape)\n",
    "print(proj.conj().T.shape)\n",
    "print(np.matmul(ham,proj).shape)\n",
    "    \n",
    "# Project the Hamiltonian on the m-eigenvalues space\n",
    "ham_proj = np.matmul(proj.conj().T,np.matmul(ham,proj))\n",
    "\n",
    "print(ham)\n",
    "print('#########################')\n",
    "print(proj)\n",
    "print('#########################')\n",
    "print(ham_proj)\n",
    "\n",
    "i=2\n",
    "print(np.dot(eigenvectors[i],eigenvectors[i]))\n"
   ]
  },
  {
   "cell_type": "code",
   "execution_count": null,
   "metadata": {},
   "outputs": [],
   "source": []
  }
 ],
 "metadata": {
  "kernelspec": {
   "display_name": "uni",
   "language": "python",
   "name": "python3"
  },
  "language_info": {
   "codemirror_mode": {
    "name": "ipython",
    "version": 3
   },
   "file_extension": ".py",
   "mimetype": "text/x-python",
   "name": "python",
   "nbconvert_exporter": "python",
   "pygments_lexer": "ipython3",
   "version": "3.12.3"
  }
 },
 "nbformat": 4,
 "nbformat_minor": 2
}
