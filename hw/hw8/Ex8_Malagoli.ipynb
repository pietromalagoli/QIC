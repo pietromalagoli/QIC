{
 "cells": [
  {
   "cell_type": "markdown",
   "metadata": {},
   "source": [
    "# Homework 8 - Renormalization Group #"
   ]
  },
  {
   "cell_type": "markdown",
   "metadata": {},
   "source": [
    "# Consegna #\n",
    "\n",
    "Consider the quantum Ising Hamiltonian in transverse field on a one-dimensional lattice with the nearest neighbour interaction:\n",
    "$$\n",
    "\\hat{H} = \\lambda {\\sum_i}^N {\\sigma_i}^z + {\\sum_i}^{N-1} {\\sigma_i}^x {\\sigma_{i+1}}^x \n",
    "$$\n",
    "\n",
    "where $\\sigma^x$ and $\\sigma^z$ and $\\lambda$ is the transverse field. \n",
    "\n",
    "(a) Compute the ground state energy as a function of the transverse field 𝜆 by means of the real-space\n",
    "RG algorithm.\n",
    "\n",
    "(b) $\\textit{Optional}$: Compute the ground state energy as a function of 𝜆 by means of the INFINITE DMRG\n",
    "algorithm. Compare the results between them and with the mean field solution.\n"
   ]
  },
  {
   "cell_type": "markdown",
   "metadata": {},
   "source": [
    "**Teoria a pag. pdf 49 del libro di Montangero**\n",
    "\n",
    "Real-space renormalization group method is an approximation method based on a very powerful physical intuition: the hypothesis that the ground state of a system is composed of low-energy states of the system’s (non-interacting) bipartitions. Based on this assumption, it is indeed possible to introduce an algorithm that allows describing the ground state properties of many-body quantum systems with large sizes $( N )$, up to the thermodynamical limit corresponding to the fixed point of the renormalization flow.\n",
    "\n",
    "The algorithm proceeds as follows:\n",
    "\n",
    "1. **Initialize**:  \n",
    "   Consider a system composed of $( N )$ sites that can be studied in an exact numerical way. Build the Hamiltonian $( H_N : \\mathbb{C}^{dN} \\to \\mathbb{C}^{dN} )$.\n",
    "\n",
    "2. **Diagonalize the Hamiltonian**:  \n",
    "   Diagonalize $( H_N )$, finding its eigenvalues and eigenvectors:\n",
    "   $$\n",
    "   H_N = \\sum_{i=1}^{d^N} E_i \\lvert E_i \\rangle \\langle E_i \\rvert,\n",
    "   $$\n",
    "   where the eigenvalues $( E_i )$ are in increasing order.  \n",
    "   Consider the projector onto the lowest $( m )$ eigenstates:\n",
    "   $$\n",
    "   P = \\sum_{i=1}^m \\lvert E_i \\rangle \\langle E_i \\rvert,\n",
    "   $$\n",
    "   which projects the Hilbert space onto the subspace spanned by the first $( m )$ low-energy eigenstates.  \n",
    "   Compute the projected Hamiltonian:\n",
    "   $$\n",
    "   \\tilde{H}_N = P^\\dagger H_N P,\n",
    "   $$\n",
    "   as well as any other needed operator representation in the projected space:\n",
    "   $$\n",
    "   \\tilde{O} = P^\\dagger O P.\n",
    "   $$\n",
    "\n",
    "3. **Construct the larger system Hamiltonian**:  \n",
    "   Construct the Hamiltonian of a system of size $( 2N )$ using the projected Hamiltonian $( \\tilde{H}_N )$ for each bipartition and the interaction among them:\n",
    "   $$\n",
    "   H_{2N} = \\tilde{H}_N \\otimes 1 + 1 \\otimes \\tilde{H}_N + \\tilde{H}_{\\text{int}}.\n",
    "   $$\n",
    "   The interaction Hamiltonian can be obtained as:\n",
    "   $$\n",
    "   \\tilde{H}_{\\text{int}} = \\tilde{A}_N \\otimes \\tilde{B}_N,\n",
    "   $$\n",
    "   where $( \\tilde{A} )$ ($( \\tilde{B} )$) are the projected operators acting on each system bipartition:\n",
    "   $$\n",
    "   \\tilde{A} = P^\\dagger A P, \\quad \\tilde{B} = P^\\dagger B P.\n",
    "   $$\n",
    "\n",
    "4. **Repeat until convergence**:  \n",
    "   Repeat steps 2–3 until the desired system size is reached or convergence to the renormalization group fixed point is achieved.  \n",
    "   At each step of the algorithm, the dimension of the described system is doubled ($( N \\to 2N )$) while the dimension of the Hamiltonian representation is kept constant at $( m )$.\n",
    "\n",
    "\n",
    "\n",
    "**metti a posto le formule in latex**"
   ]
  },
  {
   "cell_type": "code",
   "execution_count": 1,
   "metadata": {},
   "outputs": [],
   "source": [
    "import numpy as np\n",
    "import matplotlib.pyplot as plt\n",
    "import aux\n",
    "import ising as ig\n",
    "import scipy.sparse as sp"
   ]
  },
  {
   "cell_type": "code",
   "execution_count": 55,
   "metadata": {},
   "outputs": [],
   "source": [
    "def proj(ham, m):\n",
    "    _, eigenvectors = sp.linalg.eigsh(ham, k= m, which='SA')     # they're alrady sorted in ascending order\n",
    "    proj = sp.csr_matrix(eigenvectors)\n",
    "    return proj\n",
    "\n",
    "def initialize_part(N):\n",
    "    \n",
    "    sigma_x, _, _ = aux.pauli_matrices()\n",
    "    \n",
    "    A_0 = sp.kron(sp.identity(2**(N-1),format='csr'),sigma_x)\n",
    "    B_0 = sp.kron(sigma_x,sp.identity(2**(N-1),format='csr'))\n",
    "    return A_0, B_0\n",
    "\n",
    "def ham_2N(ham,A,B):\n",
    "    left = sp.kron(ham,sp.identity(ham.shape[0],format='csr'))\n",
    "    right = sp.kron(sp.identity(ham.shape[0],format='csr'),ham)\n",
    "    AB = sp.kron(A,B)\n",
    "    ham2N = left + right + AB\n",
    "    if ham2N.shape != (int(2**(2*np.log2(ham.shape[0]))),int(2**(2*np.log2(ham.shape[1])))):\n",
    "        aux.checkpoint(True,verb=3,\n",
    "                       msg='Shapes of new Hamiltonian should be = 2*(shape of the original Hamiltonian).Instead got', var=ham2N.shape)\n",
    "    return ham2N\n",
    "\n",
    "def update_op(N, ham2N, A, B, m):\n",
    "    P = proj(ham2N,m)\n",
    "    P_dag = P.conj().T\n",
    "    ham_new = P_dag @ ham2N @ P\n",
    "    A_new = P_dag @ sp.kron(sp.identity(2**N,format='csr'),A) @ P\n",
    "    B_new = P_dag @ sp.kron(B,sp.identity(2**N,format='csr')) @ P\n",
    "    return ham_new, A_new, B_new\n",
    "\n",
    "def energy_conv(N, ham, ham_new, m, tau, verb: int=1):\n",
    "    N_new = 2 * N\n",
    "    print('Ham:', ham.shape)\n",
    "    eigvals, _ = sp.linalg.eigsh(ham, m, which='SA')\n",
    "    eigvals_new, _ = sp.linalg.eigsh(ham_new, m, which='SA')\n",
    "    E = eigvals[0]\n",
    "    E_new = eigvals_new[0]\n",
    "    condition = np.abs(E_new/N_new - E/N) < tau\n",
    "    if verb == 1:\n",
    "        if condition:\n",
    "            print('Convergence reached!')\n",
    "    if verb == 2:\n",
    "        if condition:\n",
    "            print('Convergence reached!')\n",
    "        return condition, E_new/N_new, E/N\n",
    "    if verb > 2:\n",
    "        if condition:\n",
    "            print('Convergence reached!')\n",
    "            print(f'Energy density at previous step: {E/N}')\n",
    "            print(f'Energy density at current step: {E_new/N_new}')\n",
    "        else: \n",
    "            print(f'Energy density at previous step: {E/N}')\n",
    "            print(f'Energy density at current step: {E_new/N_new}')\n",
    "        return condition, E_new/N_new, E/N\n",
    "    \n",
    "\n",
    "def real_space_rg(N, m, tau, lam: float=1.0, max_iterations: int =100):\n",
    "    \n",
    "    prev_energy_density = np.inf\n",
    "    ham = ig.sparse_ising(N,lam)\n",
    "    A, B = initialize_part(N)\n",
    "    curr_N = N\n",
    "    \n",
    "    # Initialize a list for the energies\n",
    "    energy_densities = np.zeros(max_iterations)\n",
    "    deltas = np.zeros(max_iterations)\n",
    "\n",
    "    for it in range(1,max_iterations):\n",
    "        curr_N *= 2\n",
    "        if it % 10 == 0:\n",
    "            print(f\"Starting iteration {it} ...\")\n",
    "        \n",
    "        # Compute the new Hamiltonian\n",
    "        ham2N = ham_2N(ham, A, B)\n",
    "        \n",
    "        # Compute the new energy \n",
    "        E_curr, _ = sp.linalg.eigsh(ham2N, k=m,which='SA')\n",
    "        curr_energy_density = E_curr[0]/curr_N\n",
    "        delta = np.abs(curr_energy_density - prev_energy_density)\n",
    "        \n",
    "        # Append the energy to the energy list\n",
    "        energy_densities[it] = curr_energy_density\n",
    "        deltas[it] = delta\n",
    "        \n",
    "        if delta < tau:\n",
    "            print(f'Convergence reached at N = {curr_N} after {it} iterations.')\n",
    "            return energy_densities, deltas\n",
    "        \n",
    "        prev_energy_density = curr_energy_density \n",
    "            \n",
    "        # update\n",
    "        ham, A, B = update_op(N, ham2N,A,B,m)\n",
    "    \n",
    "    print('Maximum iterations reached!')\n",
    "    return energy_densities, deltas\n",
    "        \n"
   ]
  },
  {
   "cell_type": "code",
   "execution_count": 57,
   "metadata": {},
   "outputs": [
    {
     "name": "stdout",
     "output_type": "stream",
     "text": [
      "Starting iteration 10 ...\n",
      "Convergence reached at N = 16384 after 13 iterations.\n"
     ]
    },
    {
     "data": {
      "text/plain": [
       "[<matplotlib.lines.Line2D at 0x7fa06d4dfb60>]"
      ]
     },
     "execution_count": 57,
     "metadata": {},
     "output_type": "execute_result"
    },
    {
     "data": {
      "image/png": "[encoded data removed]",
      "text/plain": [
       "<Figure size 640x480 with 1 Axes>"
      ]
     },
     "metadata": {},
     "output_type": "display_data"
    }
   ],
   "source": [
    "# for the Hamiltonian I use the code already developed for the previous assignment\n",
    "\n",
    "N = 2\n",
    "lam = 1\n",
    "m = 2*N\n",
    "tau = 1e-14\n",
    "max_iter = 100\n",
    "\n",
    "energy_densities, deltas = real_space_rg(N=N, m=m, tau=tau,lam=lam, max_iterations=max_iter)\n",
    "\n",
    "plt.plot(np.arange(100), energy_densities)\n",
    "\n",
    "\n"
   ]
  },
  {
   "cell_type": "code",
   "execution_count": null,
   "metadata": {},
   "outputs": [],
   "source": []
  }
 ],
 "metadata": {
  "kernelspec": {
   "display_name": "uni",
   "language": "python",
   "name": "python3"
  },
  "language_info": {
   "codemirror_mode": {
    "name": "ipython",
    "version": 3
   },
   "file_extension": ".py",
   "mimetype": "text/x-python",
   "name": "python",
   "nbconvert_exporter": "python",
   "pygments_lexer": "ipython3",
   "version": "3.12.3"
  }
 },
 "nbformat": 4,
 "nbformat_minor": 2
}
