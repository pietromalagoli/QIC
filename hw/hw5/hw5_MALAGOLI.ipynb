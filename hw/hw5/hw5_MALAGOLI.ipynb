{
 "cells": [
  {
   "cell_type": "markdown",
   "metadata": {},
   "source": [
    "# Time-dependent Schrödinger Equation\n",
    "\n",
    "Consider the time-dependent one-dimensional quantum harmonic oscillator defined by the Hamiltonian:\n",
    "\n",
    "$$\n",
    "H = \\frac{\\hat{p}^2}{2m} + \\frac{\\omega^2}{2m} \\left(\\hat{q} - q_0(t)\\right)^2\n",
    "$$\n",
    "\n",
    "where:\n",
    "$$\n",
    "q_0(t) = \\frac{t}{T}, \\quad t \\in [0, T].\n",
    "$$\n",
    "\n",
    "The initial state is given by:\n",
    "$$\n",
    "|\\Psi_0\\rangle = |n = 0\\rangle\n",
    "$$\n",
    "(the ground state of the harmonic oscillator).\n",
    "\n",
    "Note: we will use the standard convention of $\\hbar = m = 1$ .\n",
    "\n",
    "## Objectives\n",
    "\n",
    "1. Compute the time-evolved state $(|\\Psi(t)\\rangle)$ for different values of $(T)$.\n",
    "2. Plot:\n",
    "   - The square norm of $(|\\Psi(t)\\rangle)$ as a function of $(q)$ at different times.\n",
    "   - The average position of the particle $(\\langle q(t) \\rangle)$ as a function of time $(t)$."
   ]
  },
  {
   "cell_type": "code",
   "execution_count": 4,
   "metadata": {},
   "outputs": [],
   "source": [
    "import numpy as np\n",
    "import matplotlib.pyplot as plt\n",
    "import os\n",
    "from numpy.polynomial.hermite import hermval\n",
    "from scipy.special import factorial"
   ]
  },
  {
   "cell_type": "markdown",
   "metadata": {},
   "source": [
    "## Solution ##\n",
    "\n",
    "The analytical expression for the eigenfunctions for this Hamiltonian can be expressed through the Hermite polynomials as follows:\n",
    "\n",
    "$$\n",
    "Ψ_n(q; t) = \\left(\\frac{ω}{π}\\right)^{1/4}\\frac{1}{\\sqrt{2^nn!}}\n",
    "            \\exp\\left({\\frac{-ω(q - q₀(t))^2}{2}}\\right)\n",
    "            H_n\\left(\\sqrt{ω} (q - q₀(t))\\right)\n",
    "$$\n",
    "\n",
    "So, first, let's define those."
   ]
  },
  {
   "cell_type": "code",
   "execution_count": null,
   "metadata": {},
   "outputs": [],
   "source": [
    "# Define Hermite polynomials\n",
    "def hermite(x,n: int):\n",
    "    \n",
    "    # All coefficients of the Hermite polynomial set to zero except for the n-th, which is set to 1\n",
    "    herm_coeff = np.zeros(n+1)\n",
    "    herm_coeff[n] = 1\n",
    "    \n",
    "    # Compute the polynomial using the function from Scipy\n",
    "    herm_pol = hermval(x,herm_coeff)\n",
    "    \n",
    "    return herm_pol\n",
    "\n",
    "def decomposition(x, n, omega):\n",
    "    ## Returns the eigenfunction of order n for the 1d quantum harmonic oscillator\n",
    "    \n",
    "    prefactor = (omega / np.pi)**(1/4) * (1 / np.sqrt(2**n * factorial(n)))\n",
    "    psi = prefactor * np.exp(-omega * (x**2) / 2) * hermite(np.sqrt(omega) * x, n)\n",
    "    \n",
    "    return psi"
   ]
  },
  {
   "cell_type": "markdown",
   "metadata": {},
   "source": [
    "# Objects inizialitation # \n",
    "\n",
    "Now, let's create classes for containing our operators and variables."
   ]
  },
  {
   "cell_type": "code",
   "execution_count": null,
   "metadata": {},
   "outputs": [],
   "source": [
    "class Param:\n",
    "    ## Class for containing the parameters used in the simulation\n",
    "    \n",
    "    def __init__(self,\n",
    "                 xmax: float,\n",
    "                 Nx: int,\n",
    "                 tsim: float,\n",
    "                 Nt: int,\n",
    "                 im_time: bool = False) -> None:\n",
    "    \n",
    "        self.xmax = xmax\n",
    "        self.Nx = Nx\n",
    "        self.tsim = tsim\n",
    "        self.Nt = Nt\n",
    "        self.im_time = im_time\n",
    "        \n",
    "        # Derived parameters\n",
    "        self.dx = 2 * xmax/ Nx\n",
    "        self.dt = tsim / Nt\n",
    "        self.x = np.arange(-xmax + xmax / Nx,self.dx)\n",
    "        # Momentum, defined as 1/x and a prefactor from Fourier Transfrom\n",
    "        self.dk = np.pi / xmax\n",
    "        # Momentum grid\n",
    "        self.k = np.concatenate((np.arange(0, Nx / 2), np.arange(-Nx / 2, 0))) * self.dk\n",
    "        \n",
    "class Operators:   \n",
    "    # This class will hold the operators values\n",
    "    \n",
    "    def __init__(self, \n",
    "                 res: int,\n",
    "                 par: Param,\n",
    "                 voffset: float = 0.,\n",
    "                 wfcoffset: float = 0.,\n",
    "                 q0 = None,\n",
    "                 n: int = 0) -> None:\n",
    "\n",
    "        # Initialize the containers for the various operators\n",
    "        self.V = np.empty(res, dtype=complex)\n",
    "        self.R = np.empty(res, dtype=complex)\n",
    "        self.K = np.empty(res, dtype=complex)\n",
    "        self.wfc = np.empty(res, dtype=complex)\n",
    "        \n",
    "        \n",
    "        # Time-dependent offset (default to zero)\n",
    "        self.q0 = q0 or (lambda q0: 0)\n",
    "        \n",
    "        # Initialize parameters and compute the energy\n",
    "        if par is not None:\n",
    "            self.init_operators()\n",
    "            self.compute_energy()\n",
    "            \n",
    "    def init_operators(self, par: Param, voffset: float = 0, wfcoffset: float = 0, n: int = 0):\n",
    "        \n",
    "        \n",
    "        \n",
    "        \n",
    "        "
   ]
  }
 ],
 "metadata": {
  "kernelspec": {
   "display_name": "uni",
   "language": "python",
   "name": "python3"
  },
  "language_info": {
   "codemirror_mode": {
    "name": "ipython",
    "version": 3
   },
   "file_extension": ".py",
   "mimetype": "text/x-python",
   "name": "python",
   "nbconvert_exporter": "python",
   "pygments_lexer": "ipython3",
   "version": "3.12.3"
  }
 },
 "nbformat": 4,
 "nbformat_minor": 2
}
