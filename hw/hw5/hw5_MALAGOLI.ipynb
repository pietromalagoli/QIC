{
 "cells": [
  {
   "cell_type": "markdown",
   "metadata": {},
   "source": [
    "# Time-dependent Schrödinger Equation\n",
    "\n",
    "Consider the time-dependent one-dimensional quantum harmonic oscillator defined by the Hamiltonian:\n",
    "\n",
    "$$\n",
    "H = \\frac{\\hat{p}^2}{2m} + \\frac{\\omega^2}{2m} \\left(\\hat{q} - q_0(t)\\right)^2\n",
    "$$\n",
    "\n",
    "where:\n",
    "$$\n",
    "q_0(t) = \\frac{t}{T}, \\quad t \\in [0, T].\n",
    "$$\n",
    "\n",
    "The initial state is given by:\n",
    "$$\n",
    "|\\Psi_0\\rangle = |n = 0\\rangle\n",
    "$$\n",
    "(the ground state of the harmonic oscillator).\n",
    "\n",
    "Note: we will use the standard convention of $\\hbar = m = 1$ .\n",
    "\n",
    "## Objectives\n",
    "\n",
    "1. Compute the time-evolved state $(|\\Psi(t)\\rangle)$ for different values of $(T)$.\n",
    "2. Plot:\n",
    "   - The square norm of $(|\\Psi(t)\\rangle)$ as a function of $(q)$ at different times.\n",
    "   - The average position of the particle $(\\langle q(t) \\rangle)$ as a function of time $(t)$."
   ]
  },
  {
   "cell_type": "code",
   "execution_count": 2,
   "metadata": {},
   "outputs": [],
   "source": [
    "import numpy as np\n",
    "import matplotlib.pyplot as plt\n",
    "import os"
   ]
  },
  {
   "cell_type": "markdown",
   "metadata": {},
   "source": [
    "## Solution ##\n",
    "\n",
    "The analytical expression for the eigenfunctions for this Hamiltonian can be expressed through the Hermite polynomials as follows:\n",
    "\n",
    "$$\n",
    "Ψ_n(q; t) = \\left(\\frac{ω}{π}\\right)^{1/4}\\frac{1}{\\sqrt{2^nn!}}\n",
    "            \\exp\\left({\\frac{-ω(q - q₀(t))^2}{2}}\\right)\n",
    "            H_n\\left(\\sqrt{ω} (q - q₀(t))\\right)\n",
    "$$"
   ]
  },
  {
   "cell_type": "code",
   "execution_count": null,
   "metadata": {},
   "outputs": [],
   "source": [
    "# Define Hermite polynomials\n",
    "def hermite(x,n: int):\n",
    "    \n",
    "    # All coefficients of the Hermite polynomial set to zero except for the n-th, which is set to 1\n",
    "    herm_coeff = np.zeros(n+1)\n",
    "    herm_coeff[n] = 1\n",
    "    \n",
    "    # Compute the polynomial using the function from Scipy\n",
    "    herm_pol = hermval(x,herm_coeff)\n",
    "    \n",
    "    return herm_pol\n",
    "\n",
    "def decomposition():\n",
    "    ## compute the analytical expression for the eigenfunctions of the Hamiltonian"
   ]
  }
 ],
 "metadata": {
  "kernelspec": {
   "display_name": "uni",
   "language": "python",
   "name": "python3"
  },
  "language_info": {
   "codemirror_mode": {
    "name": "ipython",
    "version": 3
   },
   "file_extension": ".py",
   "mimetype": "text/x-python",
   "name": "python",
   "nbconvert_exporter": "python",
   "pygments_lexer": "ipython3",
   "version": "3.12.3"
  }
 },
 "nbformat": 4,
 "nbformat_minor": 2
}
