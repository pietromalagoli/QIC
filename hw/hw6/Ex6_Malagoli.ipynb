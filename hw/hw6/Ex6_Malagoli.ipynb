{
 "cells": [
  {
   "cell_type": "markdown",
   "metadata": {},
   "source": [
    "### HOMEWORK 6 - DENSITY MATRICES ###"
   ]
  },
  {
   "cell_type": "markdown",
   "metadata": {},
   "source": [
    "# Density Matrices\n",
    "\n",
    "Consider a quantum system composed of $ N $ subsystems (spins, atoms, particles, etc.) each described by a wave function $ \\psi_i \\in \\mathcal{H}_D $, where $ \\mathcal{H}_D $ is a $ D $-dimensional Hilbert space. How do you write the total wave function of the system $ \\Psi(\\psi_1, \\psi_2, \\ldots, \\psi_N) $?\n",
    "\n",
    "## Tasks\n",
    "\n",
    "1. **Write Code**  \n",
    "   (a) Write a code (in Fortran or Python) to describe the composite system in the case of an $ N $-body non-interacting, separable pure state.  \n",
    "   (b) Write a code for the case of a general $ N $-body pure wave function $ \\Psi \\in \\mathcal{H}_{D^N} $.  \n",
    "\n",
    "2. **Efficiency**  \n",
    "   (c) Comment on and compare the efficiency of the implementations for parts (a) and (b).  \n",
    "\n",
    "3. **Density Matrix**  \n",
    "   (d) Given $ N = 2 $, write the density matrix of a general pure state $ \\Psi $:  \n",
    "   $$\n",
    "   \\rho = |\\Psi\\rangle\\langle\\Psi|\n",
    "   $$  \n",
    "\n",
    "4. **Reduced Density Matrix**  \n",
    "   (e) Given a generic density matrix of dimension $ D^N \\times D^N $, compute the reduced density matrix of either the left or the right system, e.g.,  \n",
    "   $$\n",
    "   \\rho_1 = \\text{Tr}_2 \\rho\n",
    "   $$  \n",
    "\n",
    "5. **Testing**  \n",
    "   (f) Test the functions described in parts (a)–(e) (and all necessary functions) on a two-spin one-half system (qubits) with different states.\n"
   ]
  },
  {
   "cell_type": "code",
   "execution_count": 4,
   "metadata": {},
   "outputs": [],
   "source": [
    "## IMPORTS\n",
    "import aux \n",
    "import numpy as np\n",
    "import matplotlib.pyplot as plt\n",
    "import seaborn as sns"
   ]
  },
  {
   "cell_type": "code",
   "execution_count": null,
   "metadata": {},
   "outputs": [],
   "source": [
    "# a) non-interacting separable states\n",
    "\n",
    "def separable_state(psi_list: np.ndarray, verb: int=0):\n",
    "    \"\"\"This function takes a list of wavefunctions of subsystems and returns the separable state of the composite system.\n",
    "\n",
    "    Args:\n",
    "        psi_list (np.ndarray): list of wavefunctions of subsystems.\n",
    "        verb (int): verbosity. Default at 0.\n",
    "\n",
    "    Raises:\n",
    "        TypeError: raises a type error if the input is not an ndarray.\n",
    "\n",
    "    Returns:\n",
    "        ndarray: wavefunction of the separable composite state.\n",
    "    \"\"\"\n",
    "    \n",
    "    if not isinstance(psi_list, np.ndarray):\n",
    "        raise TypeError(f'psi_list be an ndarray, not a {type(psi_list)}.')\n",
    "    \n",
    "    if not isinstance(verb, int):\n",
    "        raise TypeError(f'verb should be an int, not a {type(verb)}.')\n",
    "    \n",
    "    if verb != 0 and verb != 1:\n",
    "        raise ValueError(f'verb values supported are only 0 and 1, but {verb} was given.')\n",
    "    \n",
    "    \n",
    "    composite_state = np.array([np.tensordot(i, j, axes=0) for i in psi_list for j in psi_list if not np.array_equal(i, j) \n",
    "                                and np.where(psi_list == i) < np.where(psi_list == j)])\n",
    "    \n",
    "    if verb == 1:\n",
    "        D = psi_list[0].shape[0]\n",
    "        N = psi_list.shape[0]\n",
    "        \n",
    "        print('--------------------')\n",
    "        print('COMPLEXITY ANALYSIS')\n",
    "        print('---------------------')\n",
    "        print(f'D = {D}\\n\\\n",
    "                N = {N}\\n\\\n",
    "                COMPLEXITY = {N*(2*D-2)}')\n",
    "    \n",
    "    return composite_state\n",
    "\n",
    "# B) general state of dimensions (N,D)\n",
    "\n",
    "def general_state(N: int, D: int):\n",
    "    \n",
    "    if not isinstance(N, int):\n",
    "        raise TypeError(f'N must be an int and not {type(N)}.')\n",
    "    \n",
    "    if not isinstance(D, int):\n",
    "        raise TypeError(f'D must be an int and not {type(D)}.')\n",
    "    \n",
    "    if N < 1:\n",
    "        raise ValueError(f'N must be strictly positive.')\n",
    "    \n",
    "    if D < 1:\n",
    "        raise ValueError(f'D must be strictly positive.')\n",
    "    \n",
    "    # generate random states "
   ]
  }
 ],
 "metadata": {
  "kernelspec": {
   "display_name": "uni",
   "language": "python",
   "name": "python3"
  },
  "language_info": {
   "codemirror_mode": {
    "name": "ipython",
    "version": 3
   },
   "file_extension": ".py",
   "mimetype": "text/x-python",
   "name": "python",
   "nbconvert_exporter": "python",
   "pygments_lexer": "ipython3",
   "version": "3.12.3"
  }
 },
 "nbformat": 4,
 "nbformat_minor": 2
}
